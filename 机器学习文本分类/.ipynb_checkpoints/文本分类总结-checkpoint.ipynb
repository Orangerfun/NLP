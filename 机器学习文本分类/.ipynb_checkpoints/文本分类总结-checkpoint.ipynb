{
 "cells": [
  {
   "cell_type": "markdown",
   "metadata": {},
   "source": [
    "**1.概述**\n",
    "* 数据集：IMDb影评数据集（当前使用10000train,8000test）\n",
    "+ 任务：将这些IMDb电影评论分为“正面”和“负面”评论\n",
    "\n",
    "**2.步骤**\n",
    "- 读取数据\n",
    "    - 先将所有影评读入到两个列表中（positive and negative）,再将列表数据读入pd.DataFrame中（包含两列review and class）并将class中对应positive的影评值置为1，对应nega的值置为0\n",
    "- 数据清洗和预处理\n",
    "    - 使用正则化除去标点符号和其他特殊符号\n",
    "    - 去除类似and等stopwords（使用spacy库）\n",
    "- 提取数据特征\n",
    "    -分别使用词袋模型（[bag-of-words](http://www.dataguru.cn/article-9446-1.html)）和词频-逆文件频率（[TF-IDF](https://blog.csdn.net/u011630575/article/details/80179494)）提取特征\n",
    "- 数据分割（训练集、测试集、验证集）\n",
    "- 构建模型（逻辑回归）\n",
    "**最后准确率为88%**\n"
   ]
  },
  {
   "cell_type": "markdown",
   "metadata": {},
   "source": [
    "**词袋模型**\n",
    "- 将文本映射成为一个词的向量，向量的长度是词典（文档中所有词的集合）的大小，每一位表示词典中的一个词，向量中的每一位上的数值表示该词在文本中出现的次数，前提是不考虑其语法和词序关系，每个词都是独立的"
   ]
  },
  {
   "cell_type": "markdown",
   "metadata": {},
   "source": [
    "**词频-逆文件频率**\n",
    "- **词频** (term frequency, TF)  指的是某一个给定的词语在该文件中出现的次数。这个数字通常会被归一化(一般是词频除以文章总词数), 以防止它偏向长的文件\n",
    "$$TF_w=\\frac{某一类中词条w出现的次数}{该类总的词条数目}$$\n",
    "\n",
    "- **逆向文件频率 (inverse document frequency, IDF)**  IDF的主要思想是：如果包含词条t的文档越少, IDF越大，则说明词条具有很好的类别区分能力。某一特定词语的IDF，可以由总文件数目除以包含该词语之文件的数目，再将得到的商取对数得到\n",
    "$$IDF=log(\\frac{语料库文档总数}{包含词条w文档数目+1})$$分母加1是为了避免分母为零\n",
    "\n",
    "- 某一特定文件内的高词语频率，以及该词语在整个文件集合中的低文件频率，可以产生出高权重的TF-IDF$$TF-IDF=TF*IDF$$\n",
    "- **总结**：TF-IDF就是某一词条在某个文档中频率很高，但是包含该词条的文档数却很低，则该词条具有很强的区分能力"
   ]
  },
  {
   "cell_type": "code",
   "execution_count": null,
   "metadata": {},
   "outputs": [],
   "source": []
  }
 ],
 "metadata": {
  "kernelspec": {
   "display_name": "Python 3",
   "language": "python",
   "name": "python3"
  },
  "language_info": {
   "codemirror_mode": {
    "name": "ipython",
    "version": 3
   },
   "file_extension": ".py",
   "mimetype": "text/x-python",
   "name": "python",
   "nbconvert_exporter": "python",
   "pygments_lexer": "ipython3",
   "version": "3.6.5"
  }
 },
 "nbformat": 4,
 "nbformat_minor": 2
}
